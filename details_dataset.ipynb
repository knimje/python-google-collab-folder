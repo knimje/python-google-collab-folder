{
  "nbformat": 4,
  "nbformat_minor": 0,
  "metadata": {
    "colab": {
      "provenance": [],
      "authorship_tag": "ABX9TyOAvjcb50tB+oIcuZooOjFY",
      "include_colab_link": true
    },
    "kernelspec": {
      "name": "python3",
      "display_name": "Python 3"
    },
    "language_info": {
      "name": "python"
    }
  },
  "cells": [
    {
      "cell_type": "markdown",
      "metadata": {
        "id": "view-in-github",
        "colab_type": "text"
      },
      "source": [
        "<a href=\"https://colab.research.google.com/github/knimje/python-google-collab-folder/blob/main/details_dataset.ipynb\" target=\"_parent\"><img src=\"https://colab.research.google.com/assets/colab-badge.svg\" alt=\"Open In Colab\"/></a>"
      ]
    },
    {
      "cell_type": "code",
      "execution_count": null,
      "metadata": {
        "id": "QDhdcAfmJQOf"
      },
      "outputs": [],
      "source": [
        "#wap that stores a college and branch of a female student and mobile sem and branch of a male stadent use concept of tuple,dict,loop,and conditional statements to fetch these details based on the name entered by the user\n",
        "a=int(input(\"Enter total number of students\"))\n",
        "details={}\n",
        "stu = (details)\n",
        "\n",
        "while a!=0:\n",
        "    gender = input(\"enter gender \")\n",
        "    if gender == \"female\":\n",
        "        name=input(\"enter name \")\n",
        "        details[name] = {\"college\": input(\"Enter mobile number: \"), \"branch\": input(\"Enter branch: \")}\n",
        "        print(details)\n",
        "    elif gender==\"male\":\n",
        "        name=input(\"enter name \")\n",
        "        details[name] = {\"mobile\": input(\"Enter college: \"), \"semester\": input(\"Enter semester: \")}\n",
        "        print(details)\n",
        "    a-=1\n",
        "for i in stu:\n",
        "    print(i,\"\\n\")\n",
        "search=input(\"enter the name to be searched \")\n",
        "if search in stu:\n",
        "    print(details[search])"
      ]
    },
    {
      "cell_type": "code",
      "source": [],
      "metadata": {
        "id": "jnkIkKlSJRHZ"
      },
      "execution_count": null,
      "outputs": []
    }
  ]
}